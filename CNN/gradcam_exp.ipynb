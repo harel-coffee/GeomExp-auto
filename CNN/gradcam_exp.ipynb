{
 "cells": [
  {
   "cell_type": "code",
   "execution_count": null,
   "metadata": {},
   "outputs": [],
   "source": [
    "# ==============================================================================\n",
    "# Generate the GradCAM explanation for the given model and image.\n",
    "# =============================================================================="
   ]
  },
  {
   "cell_type": "code",
   "execution_count": null,
   "metadata": {},
   "outputs": [],
   "source": [
    "import eli5  # https://eli5.readthedocs.io/en/latest/index.html\n",
    "import tensorflow as tf  # https://www.tensorflow.org\n",
    "import numpy as np  # https://numpy.org\n",
    "from PIL import Image  # https://pillow.readthedocs.io/en/stable/\n",
    "import matplotlib.pyplot as plt  # https://matplotlib.org\n",
    "import matplotlib.cm\n",
    "\n",
    "tf.compat.v1.disable_eager_execution()  # Otherwise ELI5 doesn't work."
   ]
  },
  {
   "cell_type": "code",
   "execution_count": null,
   "metadata": {},
   "outputs": [],
   "source": [
    "def load_image(path):\n",
    "    return Image.open(path)\n",
    "\n",
    "\n",
    "def load_image_into_array(path):\n",
    "    \"\"\" Load the image into a numpy array (format suitable for the model). \"\"\"\n",
    "    image = tf.keras.preprocessing.image.load_img(path)\n",
    "    input_arr = tf.keras.preprocessing.image.img_to_array(image)\n",
    "    input_arr = np.expand_dims(input_arr, axis=0)  # Convert to batch\n",
    "\n",
    "    return input_arr"
   ]
  },
  {
   "cell_type": "code",
   "execution_count": null,
   "metadata": {},
   "outputs": [],
   "source": [
    "img_path = \"PATH/TO/IMAGE\"\n",
    "img_arr = load_image_into_array(img_path)\n",
    "img = load_image(img_path)"
   ]
  },
  {
   "cell_type": "code",
   "execution_count": null,
   "metadata": {
    "tags": [
     "outputPrepend"
    ]
   },
   "outputs": [],
   "source": [
    "model = tf.keras.models.load_model(\"PATH/TO/MODEL\")\n",
    "model.summary()"
   ]
  },
  {
   "cell_type": "code",
   "execution_count": null,
   "metadata": {},
   "outputs": [],
   "source": [
    "print(model.predict(img_arr))"
   ]
  },
  {
   "cell_type": "code",
   "execution_count": null,
   "metadata": {},
   "outputs": [],
   "source": [
    "exp = eli5.show_prediction(model, img_arr, image=img, layer='conv5_3_1x1_increase/bn', colormap=matplotlib.cm.viridis)\n",
    "plt.imshow(exp)\n",
    "cbar = plt.colorbar()\n",
    "cbar.set_ticks([])\n",
    "plt.axis('off')\n",
    "plt.savefig(\"PATH/TO/SAVE/EXP\", dpi=600, bbox_inches='tight')"
   ]
  },
  {
   "cell_type": "code",
   "execution_count": null,
   "metadata": {},
   "outputs": [],
   "source": [
    "def plot_probability_distribution(pred, label_true, save_file=None):\n",
    "    \"\"\" Plot the probability distribution as given in pred in a bar plot. \"\"\"\n",
    "    class_names = ['AF', 'AN', 'DI', 'HA', 'NE', 'SA', 'SU']\n",
    "    # Instead of using FE, use AF and thus put it to the front.\n",
    "    new_pred = [pred[0][2], pred[0][0], pred[0][1], pred[0][3], pred[0][4], pred[0][5], pred[0][6]]\n",
    "    barlist = plt.bar(class_names, new_pred, color='paleturquoise')\n",
    "    barlist[label_true].set_color('teal')  # Give the bar of the correct class a different colour.\n",
    "\n",
    "    plt.yticks(np.arange(0, 1.1, 0.1))\n",
    "    handle = [plt.Rectangle((0, 0), 1, 1, color='teal'), plt.Rectangle((0, 0), 1, 1, color='paleturquoise')]\n",
    "    plt.legend(handle, ['True label', 'Other label'])\n",
    "    plt.title('Probability distribution')\n",
    "\n",
    "    if save_file:\n",
    "        plt.savefig(save_file, dpi=600)\n",
    "\n",
    "    plt.show()\n",
    "\n",
    "plot_probability_distribution(model.predict(img_arr), 6, \"SAVEFILE_PROB_DIST\")"
   ]
  }
 ],
 "metadata": {
  "kernelspec": {
   "display_name": "Python 3.9.0 64-bit",
   "name": "python390jvsc74a57bd0aee8b7b246df8f9039afb4144a1f6fd8d2ca17a180786b69acc140d282b71a49"
  },
  "language_info": {
   "codemirror_mode": {
    "name": "ipython",
    "version": 3
   },
   "file_extension": ".py",
   "mimetype": "text/x-python",
   "name": "python",
   "nbconvert_exporter": "python",
   "pygments_lexer": "ipython3",
   "version": "3.9.0"
  },
  "metadata": {
   "interpreter": {
    "hash": "aee8b7b246df8f9039afb4144a1f6fd8d2ca17a180786b69acc140d282b71a49"
   }
  },
  "orig_nbformat": 2
 },
 "nbformat": 4,
 "nbformat_minor": 2
}